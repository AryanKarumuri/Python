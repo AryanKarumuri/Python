{
  "nbformat": 4,
  "nbformat_minor": 0,
  "metadata": {
    "colab": {
      "provenance": []
    },
    "kernelspec": {
      "name": "python3",
      "display_name": "Python 3"
    },
    "language_info": {
      "name": "python"
    }
  },
  "cells": [
    {
      "cell_type": "code",
      "execution_count": 1,
      "metadata": {
        "id": "_XtOM1ndsrfk"
      },
      "outputs": [],
      "source": [
        "# Importing the required package\n",
        "\n",
        "import numpy as np"
      ]
    },
    {
      "cell_type": "code",
      "source": [
        "NP1 = np.array([1,2,3,4])\n",
        "print(NP1)              # Printing the numpy array\n",
        "print(type(NP1))        # Type of the numpy array"
      ],
      "metadata": {
        "colab": {
          "base_uri": "https://localhost:8080/"
        },
        "id": "XXKuB1LWsvl8",
        "outputId": "92fa7c88-977a-4f1f-d6fe-f12ad9c3baa7"
      },
      "execution_count": 2,
      "outputs": [
        {
          "output_type": "stream",
          "name": "stdout",
          "text": [
            "[1 2 3 4]\n",
            "<class 'numpy.ndarray'>\n"
          ]
        }
      ]
    },
    {
      "cell_type": "code",
      "source": [
        "NP2 = np.array([[1,2,3],[4,5,6]])\n",
        "print(NP2)              # Printing the numpy array\n",
        "print(type(NP2))        # Type of the numpy array\n",
        "print(NP2.shape)        # Shape of the numpy array\n",
        "print(NP2.size)         # Size of the numpy array - '2*3=6'\n",
        "print(NP2.ndim)         # Number of dimensions of the numpy array"
      ],
      "metadata": {
        "colab": {
          "base_uri": "https://localhost:8080/"
        },
        "id": "_05UEaUUs70Y",
        "outputId": "1ad1f0f5-af0e-418f-e4d6-f366fd3b700f"
      },
      "execution_count": 6,
      "outputs": [
        {
          "output_type": "stream",
          "name": "stdout",
          "text": [
            "[[1 2 3]\n",
            " [4 5 6]]\n",
            "<class 'numpy.ndarray'>\n",
            "(2, 3)\n",
            "6\n",
            "2\n"
          ]
        }
      ]
    },
    {
      "cell_type": "code",
      "source": [
        "# Printing the element(s) at specific location\n",
        "# 1-D Array\n",
        "\n",
        "print(NP1)\n",
        "print(NP1[2])           # Element at index '2'\n",
        "print(NP1[0:2])         # Elements from start-index to end-index\n",
        "print(NP1[:1])"
      ],
      "metadata": {
        "colab": {
          "base_uri": "https://localhost:8080/"
        },
        "id": "4O5rl-LOtLHd",
        "outputId": "f936c4b2-94e0-431d-b516-dcd1cb12be7a"
      },
      "execution_count": 10,
      "outputs": [
        {
          "output_type": "stream",
          "name": "stdout",
          "text": [
            "[1 2 3 4]\n",
            "3\n",
            "[1 2]\n",
            "[1]\n"
          ]
        }
      ]
    },
    {
      "cell_type": "code",
      "source": [
        "# Printing the entire 2D array NP2\n",
        "print(NP2)\n",
        "\n",
        "# Printing the first row of the 2D array (index 0)\n",
        "print(NP2[0])\n",
        "\n",
        "# Printing the element at the first row, second column (index 0,1)\n",
        "print(NP2[0][1])\n",
        "\n",
        "# Same as above, using the comma notation to index (first row, third column)\n",
        "print(NP2[0,2])\n",
        "\n",
        "# Slicing the 2D array to get all rows, but only the third column (index 2)\n",
        "print(NP2[:,2])\n",
        "\n",
        "# Slicing the 2D array to get the first row (index 0) across all columns\n",
        "print(NP2[0,:])\n",
        "\n",
        "# Accessing the element at row 1, column 1 (index 1,1)\n",
        "print(NP2[1,1])\n",
        "\n",
        "# Printing the entire 2D array again (same as the first line)\n",
        "print(NP2[:,:])\n",
        "\n",
        "# Slicing a subarray from rows 0 to 2, and columns 1 to 3 (excluding row 2 and column 3)\n",
        "print(NP2[0:2,1:3])\n"
      ],
      "metadata": {
        "colab": {
          "base_uri": "https://localhost:8080/"
        },
        "id": "L1eZ0hxSulRi",
        "outputId": "76736ee4-96d0-4d89-ebb3-0b6eb42e347c"
      },
      "execution_count": 18,
      "outputs": [
        {
          "output_type": "stream",
          "name": "stdout",
          "text": [
            "[[1 2 3]\n",
            " [4 5 6]]\n",
            "[1 2 3]\n",
            "2\n",
            "3\n",
            "[3 6]\n",
            "[1 2 3]\n",
            "5\n",
            "[[1 2 3]\n",
            " [4 5 6]]\n",
            "[[2 3]\n",
            " [5 6]]\n"
          ]
        }
      ]
    },
    {
      "cell_type": "code",
      "source": [
        "# Create two 1D arrays\n",
        "arr1 = np.array([1, 2, 3])\n",
        "arr2 = np.array([4, 5, 6])"
      ],
      "metadata": {
        "id": "xWu1OsJ-vRLu"
      },
      "execution_count": 23,
      "outputs": []
    },
    {
      "cell_type": "markdown",
      "source": [
        "**Element-wise Operations**"
      ],
      "metadata": {
        "id": "psec7ApG1qkk"
      }
    },
    {
      "cell_type": "code",
      "source": [
        "# Element-wise Addition\n",
        "print(\"Element-wise Addition:\")\n",
        "print(arr1 + arr2)  # Output: [5 7 9]\n",
        "\n",
        "# Element-wise Subtraction\n",
        "print(\"\\nElement-wise Subtraction:\")\n",
        "print(arr1 - arr2)  # Output: [-3 -3 -3]\n",
        "\n",
        "# Element-wise Multiplication\n",
        "print(\"\\nElement-wise Multiplication:\")\n",
        "print(arr1 * arr2)  # Output: [ 4 10 18]\n",
        "\n",
        "# Element-wise Division\n",
        "print(\"\\nElement-wise Division:\")\n",
        "print(arr1 / arr2)  # Output: [0.25 0.4 0.5]\n",
        "\n",
        "# Element-wise Power\n",
        "print(\"\\nElement-wise Power:\")\n",
        "print(arr1 ** arr2)  # Output: [  1  32 729]\n",
        "\n",
        "# Element-wise Modulus\n",
        "print(\"\\nElement-wise Modulus (arr2 % arr1):\")\n",
        "print(arr2 % arr1)  # Output: [0 1 0]"
      ],
      "metadata": {
        "colab": {
          "base_uri": "https://localhost:8080/"
        },
        "id": "5WfqboC40Twv",
        "outputId": "aadc0954-2a22-431d-b87e-a4bdea1f1046"
      },
      "execution_count": 24,
      "outputs": [
        {
          "output_type": "stream",
          "name": "stdout",
          "text": [
            "Element-wise Addition:\n",
            "[5 7 9]\n",
            "\n",
            "Element-wise Subtraction:\n",
            "[-3 -3 -3]\n",
            "\n",
            "Element-wise Multiplication:\n",
            "[ 4 10 18]\n",
            "\n",
            "Element-wise Division:\n",
            "[0.25 0.4  0.5 ]\n",
            "\n",
            "Element-wise Power:\n",
            "[  1  32 729]\n",
            "\n",
            "Element-wise Modulus (arr2 % arr1):\n",
            "[0 1 0]\n"
          ]
        }
      ]
    },
    {
      "cell_type": "markdown",
      "source": [
        "**Scalar Operations**\n",
        "\n"
      ],
      "metadata": {
        "id": "862tOb2f16W1"
      }
    },
    {
      "cell_type": "code",
      "source": [
        "# Scalar Operations\n",
        "print(\"\\nScalar Addition (add 10 to each element of arr1):\")\n",
        "print(arr1 + 10)  # Output: [11 12 13]\n",
        "\n",
        "print(\"\\nScalar Multiplication (multiply arr2 by 2):\")\n",
        "print(arr2 * 2)  # Output: [ 8 10 12]"
      ],
      "metadata": {
        "colab": {
          "base_uri": "https://localhost:8080/"
        },
        "id": "7k0WUAZc1uB5",
        "outputId": "1c0b1f9f-2ce9-4a13-c07a-4665be7fc437"
      },
      "execution_count": 25,
      "outputs": [
        {
          "output_type": "stream",
          "name": "stdout",
          "text": [
            "\n",
            "Scalar Addition (add 10 to each element of arr1):\n",
            "[11 12 13]\n",
            "\n",
            "Scalar Multiplication (multiply arr2 by 2):\n",
            "[ 8 10 12]\n"
          ]
        }
      ]
    },
    {
      "cell_type": "markdown",
      "source": [
        "**Matrix Operations**"
      ],
      "metadata": {
        "id": "l2xu8-uk2Pfp"
      }
    },
    {
      "cell_type": "code",
      "source": [
        "# Matrix Operations (2D Arrays)\n",
        "arr1_2d = np.array([[1, 2], [3, 4]])\n",
        "arr2_2d = np.array([[5, 6], [7, 8]])\n",
        "\n",
        "# Matrix Addition\n",
        "print(\"\\nMatrix Addition:\")\n",
        "print(arr1_2d + arr2_2d)  # Output: [[ 6  8] [10 12]]\n",
        "\n",
        "# Matrix Multiplication (element-wise)\n",
        "print(\"\\nMatrix Element-wise Multiplication:\")\n",
        "print(arr1_2d * arr2_2d)  # Output: [[ 5 12] [21 32]]\n",
        "\n",
        "# Matrix Division (element-wise)\n",
        "print(\"\\nMatrix Element-wise Division:\")\n",
        "print(arr1_2d / arr2_2d)  # Output: [[0.2 0.33333333] [0.42857143 0.5]]\n",
        "\n",
        "# 9. Universal Functions (ufuncs)\n",
        "print(\"\\nSine of each element in arr1:\")\n",
        "print(np.sin(arr1))  # Output: [ 0.84147098  0.90929743  0.14112001]\n",
        "\n",
        "print(\"\\nExponential of each element in arr1:\")\n",
        "print(np.exp(arr1))  # Output: [  2.71828183   7.3890561   20.08553692]"
      ],
      "metadata": {
        "colab": {
          "base_uri": "https://localhost:8080/"
        },
        "id": "TcMwDmyS2UZg",
        "outputId": "4f2ebe45-0357-4a74-c638-d399a14e440e"
      },
      "execution_count": 26,
      "outputs": [
        {
          "output_type": "stream",
          "name": "stdout",
          "text": [
            "\n",
            "Matrix Addition:\n",
            "[[ 6  8]\n",
            " [10 12]]\n",
            "\n",
            "Matrix Element-wise Multiplication:\n",
            "[[ 5 12]\n",
            " [21 32]]\n",
            "\n",
            "Matrix Element-wise Division:\n",
            "[[0.2        0.33333333]\n",
            " [0.42857143 0.5       ]]\n",
            "\n",
            "Sine of each element in arr1:\n",
            "[0.84147098 0.90929743 0.14112001]\n",
            "\n",
            "Exponential of each element in arr1:\n",
            "[ 2.71828183  7.3890561  20.08553692]\n"
          ]
        }
      ]
    },
    {
      "cell_type": "code",
      "source": [
        "# Perform matrix multiplication using the '@' operator\n",
        "print(arr1_2d@arr2_2d)"
      ],
      "metadata": {
        "colab": {
          "base_uri": "https://localhost:8080/"
        },
        "id": "QQXzZR2L0MzQ",
        "outputId": "01a0a179-6ae0-45e4-d736-1d0a36191af5"
      },
      "execution_count": 27,
      "outputs": [
        {
          "output_type": "stream",
          "name": "stdout",
          "text": [
            "[[19 22]\n",
            " [43 50]]\n"
          ]
        }
      ]
    }
  ]
}