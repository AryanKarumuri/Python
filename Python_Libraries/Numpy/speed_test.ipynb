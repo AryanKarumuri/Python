{
 "cells": [
  {
   "cell_type": "code",
   "execution_count": 1,
   "id": "5f9fff7f-2a93-4168-8c9d-950e44a63e01",
   "metadata": {},
   "outputs": [],
   "source": [
    "#imports\n",
    "import numpy as np\n",
    "import random as rd\n",
    "from datetime import datetime"
   ]
  },
  {
   "cell_type": "code",
   "execution_count": 11,
   "id": "26b8fa5f-ca70-49ec-a583-621ea25ca480",
   "metadata": {},
   "outputs": [],
   "source": [
    "a = np.random.rand(50)\n",
    "b = np.random.rand(50)\n",
    "T = 10000"
   ]
  },
  {
   "cell_type": "code",
   "execution_count": 9,
   "id": "a8bbd5eb-942b-4515-a132-5a3cf9609dce",
   "metadata": {},
   "outputs": [
    {
     "data": {
      "text/plain": [
       "(array([0.66074582, 0.06444666, 0.44789773, 0.96558412, 0.56299821,\n",
       "        0.46337668, 0.39900713, 0.86890603, 0.16289027, 0.77229093,\n",
       "        0.92020439, 0.18565689, 0.50609683, 0.18125964, 0.26755503,\n",
       "        0.62043555, 0.21328428, 0.58118303, 0.73003524, 0.32302549,\n",
       "        0.38911652, 0.5914385 , 0.08975187, 0.91289503, 0.9579241 ,\n",
       "        0.40766067, 0.21734902, 0.31307968, 0.77887301, 0.6670816 ,\n",
       "        0.24189648, 0.32741625, 0.84037409, 0.13728411, 0.25956988,\n",
       "        0.38733774, 0.9189503 , 0.93756278, 0.02010248, 0.00341362,\n",
       "        0.33385595, 0.37262471, 0.75539153, 0.06758017, 0.02218965,\n",
       "        0.76911178, 0.37842971, 0.62585509, 0.87042323, 0.14450104]),\n",
       " array([0.95137954, 0.25050471, 0.34662821, 0.72332426, 0.26064621,\n",
       "        0.13506984, 0.49269542, 0.38031991, 0.05556225, 0.17671277,\n",
       "        0.87761238, 0.12438962, 0.44095773, 0.46765988, 0.79176574,\n",
       "        0.73666268, 0.4198816 , 0.8679316 , 0.84134725, 0.92208019,\n",
       "        0.35762673, 0.79503976, 0.25458353, 0.33806528, 0.98918424,\n",
       "        0.47457695, 0.02241213, 0.79365847, 0.87474908, 0.79011923,\n",
       "        0.51243877, 0.98398287, 0.28609733, 0.20108976, 0.07627283,\n",
       "        0.8244534 , 0.7519479 , 0.14889317, 0.22688749, 0.89991521,\n",
       "        0.43540735, 0.46530012, 0.44213676, 0.35429399, 0.67282295,\n",
       "        0.23792459, 0.12359898, 0.7102368 , 0.5174216 , 0.99957845]))"
      ]
     },
     "execution_count": 9,
     "metadata": {},
     "output_type": "execute_result"
    }
   ],
   "source": [
    "a, b"
   ]
  },
  {
   "cell_type": "code",
   "execution_count": 14,
   "id": "8246aaf9-369b-416b-beb4-077d810b2b1a",
   "metadata": {},
   "outputs": [
    {
     "name": "stdout",
     "output_type": "stream",
     "text": [
      "Time taken for brute force approach:  0:00:00.166610\n",
      "Time taken for numpy approach:  0:00:00.006655\n"
     ]
    }
   ],
   "source": [
    "def brute_force_approach(a, b):\n",
    "    dot = 0\n",
    "    for i,j in zip(a, b):\n",
    "        dot += i*j\n",
    "    return dot\n",
    "\n",
    "start_time = datetime.now()\n",
    "for i in range(T):\n",
    "    brute_force_approach(a,b)\n",
    "end_time = datetime.now()\n",
    "\n",
    "print(\"Time taken for brute force approach: \",end_time-start_time)\n",
    "\n",
    "def numpy_approach(a,b):\n",
    "    return a.dot(b)\n",
    "\n",
    "start_time = datetime.now()\n",
    "for i in range(T):\n",
    "    numpy_approach(a,b)\n",
    "end_time = datetime.now()\n",
    "\n",
    "print(\"Time taken for numpy approach: \",end_time-start_time)\n",
    "    "
   ]
  },
  {
   "cell_type": "markdown",
   "id": "77244e04-1420-41eb-88cb-f976eeffcb04",
   "metadata": {},
   "source": [
    "### Observation:"
   ]
  },
  {
   "cell_type": "raw",
   "id": "cce3a84f-e8d1-44e6-a3e3-3161ac82e45a",
   "metadata": {},
   "source": [
    "From your output:\n",
    "\n",
    "Brute force approach: ~167 milliseconds\n",
    "\n",
    "NumPy approach: ~6.7 milliseconds\n",
    "\n",
    "That’s about 25x faster using NumPy! 🚀"
   ]
  }
 ],
 "metadata": {
  "kernelspec": {
   "display_name": "mytryout_venv",
   "language": "python",
   "name": "mytryout_venv"
  },
  "language_info": {
   "codemirror_mode": {
    "name": "ipython",
    "version": 3
   },
   "file_extension": ".py",
   "mimetype": "text/x-python",
   "name": "python",
   "nbconvert_exporter": "python",
   "pygments_lexer": "ipython3",
   "version": "3.10.12"
  }
 },
 "nbformat": 4,
 "nbformat_minor": 5
}
