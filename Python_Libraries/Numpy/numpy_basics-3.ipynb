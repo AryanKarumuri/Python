{
 "cells": [
  {
   "cell_type": "code",
   "execution_count": 3,
   "id": "a09a9b37-01a7-4b6c-af79-a5dba58d1178",
   "metadata": {},
   "outputs": [
    {
     "name": "stdout",
     "output_type": "stream",
     "text": [
      "Requirement already satisfied: numpy in c:\\users\\dell\\appdata\\local\\programs\\python\\python312\\lib\\site-packages (1.26.2)\n"
     ]
    },
    {
     "name": "stderr",
     "output_type": "stream",
     "text": [
      "\n",
      "[notice] A new release of pip is available: 23.2.1 -> 23.3.2\n",
      "[notice] To update, run: python.exe -m pip install --upgrade pip\n"
     ]
    }
   ],
   "source": [
    "#NumPy Basics\n",
    "!pip install numpy"
   ]
  },
  {
   "cell_type": "code",
   "execution_count": 7,
   "id": "8cf765f9-ccf7-42e4-8bd8-57d088d99fc7",
   "metadata": {},
   "outputs": [
    {
     "name": "stdout",
     "output_type": "stream",
     "text": [
      "[10 85 62 32 78 96]\n",
      "<class 'numpy.ndarray'>\n",
      "int32\n"
     ]
    }
   ],
   "source": [
    "#Create numpy array\n",
    "import numpy as np\n",
    "sales=np.array([10,85,62,32,78,96])\n",
    "print(sales)\n",
    "print(type(sales))\n",
    "print(sales.dtype)"
   ]
  },
  {
   "cell_type": "code",
   "execution_count": 10,
   "id": "74f25237-c4a4-4d77-a878-182ef7f7b63b",
   "metadata": {},
   "outputs": [
    {
     "name": "stdout",
     "output_type": "stream",
     "text": [
      "[1 1 1 1 1]\n",
      "[0 0 0 0 0]\n"
     ]
    }
   ],
   "source": [
    "arr=np.ones(5,dtype='int')\n",
    "print(arr)\n",
    "arr=np.zeros(5,dtype='int')\n",
    "print(arr)"
   ]
  },
  {
   "cell_type": "code",
   "execution_count": 16,
   "id": "48e37d96-4a20-41b4-b53e-dd9a982220b9",
   "metadata": {},
   "outputs": [
    {
     "name": "stdout",
     "output_type": "stream",
     "text": [
      "[10 11 12 13 14 15 16 17 18 19]\n",
      "13\n",
      "No of Dim: 1\n"
     ]
    }
   ],
   "source": [
    "arr=np.arange(10,20)\n",
    "print(arr)\n",
    "print(arr[3])\n",
    "print(\"No of Dim:\",arr.ndim)"
   ]
  },
  {
   "cell_type": "code",
   "execution_count": 2,
   "id": "e073f2ae-a67c-4d9a-bc97-e4a60c56adb4",
   "metadata": {},
   "outputs": [
    {
     "name": "stdout",
     "output_type": "stream",
     "text": [
      "[10. 20. 30. 40. 50.]\n"
     ]
    }
   ],
   "source": [
    "import numpy as np\n",
    "arr=np.linspace(10,50,5)\n",
    "print(arr)"
   ]
  },
  {
   "cell_type": "code",
   "execution_count": 18,
   "id": "df5f7aec-ba44-4ee0-b2fc-0c2394d44a05",
   "metadata": {},
   "outputs": [
    {
     "name": "stdout",
     "output_type": "stream",
     "text": [
      "[[10 20 30]\n",
      " [40 50 60]\n",
      " [70 80 90]]\n",
      "No of Dim: 2\n",
      "No of elements: 9\n",
      "Shape of array: (3, 3)\n"
     ]
    }
   ],
   "source": [
    "arr=np.array([[10,20,30],[40,50,60],[70,80,90]])\n",
    "print(arr)\n",
    "print(\"No of Dim:\",arr.ndim)\n",
    "print(\"No of elements:\",arr.size)\n",
    "print(\"Shape of array:\",arr.shape)"
   ]
  },
  {
   "cell_type": "code",
   "execution_count": 6,
   "id": "5ea5f41a-6744-4701-b571-508784788d83",
   "metadata": {},
   "outputs": [
    {
     "name": "stdout",
     "output_type": "stream",
     "text": [
      "[[10 20 30]\n",
      " [40 50 60]]\n"
     ]
    }
   ],
   "source": [
    "#Reshaping of array\n",
    "arr=np.array([10,20,30,40,50,60])\n",
    "arr_new=arr.reshape(2,3)\n",
    "print(arr_new)"
   ]
  },
  {
   "cell_type": "code",
   "execution_count": 10,
   "id": "af5d0937-0875-4e6c-99a4-c9fca39de157",
   "metadata": {},
   "outputs": [
    {
     "name": "stdout",
     "output_type": "stream",
     "text": [
      "10\n",
      "[[40 50]\n",
      " [20 30]]\n"
     ]
    }
   ],
   "source": [
    "#Fancy indexing\n",
    "print(arr[0]) #normal Indexing\n",
    "ind=np.array([[3,4],[1,2]])\n",
    "print(arr[ind])"
   ]
  },
  {
   "cell_type": "code",
   "execution_count": 12,
   "id": "8978fbcb-db87-4ad3-b963-55b7ae77046f",
   "metadata": {},
   "outputs": [
    {
     "name": "stdout",
     "output_type": "stream",
     "text": [
      "[10, 20, 30, 10, 20, 30, 10, 20, 30]\n",
      "[30 60 90]\n"
     ]
    }
   ],
   "source": [
    "#Broadcasting\n",
    "lst=[10,20,30]\n",
    "print(lst*3)\n",
    "arr=np.array(lst)\n",
    "print(arr*3)"
   ]
  }
 ],
 "metadata": {
  "kernelspec": {
   "display_name": "Python 3 (ipykernel)",
   "language": "python",
   "name": "python3"
  },
  "language_info": {
   "codemirror_mode": {
    "name": "ipython",
    "version": 3
   },
   "file_extension": ".py",
   "mimetype": "text/x-python",
   "name": "python",
   "nbconvert_exporter": "python",
   "pygments_lexer": "ipython3",
   "version": "3.12.0"
  }
 },
 "nbformat": 4,
 "nbformat_minor": 5
}
