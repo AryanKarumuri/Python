{
 "cells": [
  {
   "cell_type": "markdown",
   "id": "59b1a899-45f3-4262-9040-20a213a01f88",
   "metadata": {},
   "source": [
    "# Stemming in NLP\n",
    "\n",
    "## What is Stemming?\n",
    "\n",
    "**Stemming** is the process of reducing a word to its **base or root form**, known as the **stem**.  \n",
    "The stem may not be a real word but is used to group related words together.\n",
    "\n",
    "- Example:\n",
    "  - \"running\", \"runs\", \"ran\" → \"run\"\n",
    "  - \"happily\", \"happiness\" → \"happi\"\n",
    "\n",
    "## Why Use Stemming?\n",
    "\n",
    "- Reduces vocabulary size.\n",
    "- Helps match related terms in text (e.g., in search engines, classification, etc.).\n",
    "- Useful for tasks like **information retrieval**, **text mining**, and **sentiment analysis**."
   ]
  },
  {
   "cell_type": "markdown",
   "id": "dfed1770-e718-4f1b-9147-eb5e75d8f48a",
   "metadata": {},
   "source": [
    "## Limitations of Stemming\n",
    "- May produce non-real words (e.g., \"fairly\" → \"fairli\").\n",
    "- Can lead to over-stemming (different words reduced to the same root) or under-stemming.\n",
    "- Less accurate than lemmatization, which uses vocabulary and grammar.\n",
    "\n",
    "## Bonus Tip\n",
    "- Use Stemming for speed and simplicity.\n",
    "- Use Lemmatization when accuracy and word meaning matter."
   ]
  },
  {
   "cell_type": "code",
   "execution_count": 1,
   "id": "a5be4452-6ed1-4a75-9957-93c16874baa0",
   "metadata": {},
   "outputs": [],
   "source": [
    "words = [\"running\", \"ran\", \"runs\", \"easily\", \"fairly\", \"programmers\", \"programs\", \"history\", \"historical\"]"
   ]
  },
  {
   "cell_type": "markdown",
   "id": "27d7598b-fd72-4d6d-a46f-34b303a4a53b",
   "metadata": {},
   "source": [
    "### PorterStemmer(Classic, Rule-based)\n",
    "- A widely used, rule-based stemmer that applies a series of steps to strip suffixes from English words."
   ]
  },
  {
   "cell_type": "code",
   "execution_count": 2,
   "id": "48859c98-214a-418e-b5f7-410b020612e0",
   "metadata": {},
   "outputs": [
    {
     "name": "stdout",
     "output_type": "stream",
     "text": [
      "['run', 'ran', 'run', 'easili', 'fairli', 'programm', 'program', 'histori', 'histor']\n"
     ]
    }
   ],
   "source": [
    "from nltk.stem import PorterStemmer\n",
    "\n",
    "stemmer = PorterStemmer()\n",
    "stems = [stemmer.stem(word) for word in words]\n",
    "print(stems)"
   ]
  },
  {
   "cell_type": "markdown",
   "id": "f5097a92-f7bd-48f7-9867-3e5ae7ee6176",
   "metadata": {},
   "source": [
    "### LancasterStemmer (More aggressive)\n",
    "- A more aggressive stemmer than Porter, often leading to shorter stems and possible over-stemming."
   ]
  },
  {
   "cell_type": "code",
   "execution_count": 3,
   "id": "262a3174-8e01-4ab7-b01d-8a1363686c9b",
   "metadata": {},
   "outputs": [
    {
     "name": "stdout",
     "output_type": "stream",
     "text": [
      "['run', 'ran', 'run', 'easy', 'fair', 'program', 'program', 'hist', 'hist']\n"
     ]
    }
   ],
   "source": [
    "from nltk.stem import LancasterStemmer\n",
    "\n",
    "stemmer = LancasterStemmer()\n",
    "stems = [stemmer.stem(word) for word in words]\n",
    "print(stems)"
   ]
  },
  {
   "cell_type": "markdown",
   "id": "edbb918a-32c0-4dc7-8ea6-d9abe6ffb631",
   "metadata": {},
   "source": [
    "### RegexpStemmer class\n",
    "- A customizable stemmer that removes word suffixes using user-defined regular expression patterns."
   ]
  },
  {
   "cell_type": "code",
   "execution_count": 5,
   "id": "d1d2c057-22d6-4fbe-be0a-008be78e27dc",
   "metadata": {},
   "outputs": [
    {
     "name": "stdout",
     "output_type": "stream",
     "text": [
      "['runn', 'ran', 'run', 'easily', 'fairly', 'programmer', 'program', 'history', 'historical']\n"
     ]
    }
   ],
   "source": [
    "from nltk.stem import RegexpStemmer\n",
    "\n",
    "stemmer = RegexpStemmer('ing$|s$|e$|able$', min=4)\n",
    "stems = [stemmer.stem(word) for word in words]\n",
    "print(stems)"
   ]
  },
  {
   "cell_type": "markdown",
   "id": "1af6cc6b-9ab9-4911-b8d1-af21d93d7404",
   "metadata": {},
   "source": [
    "### SnowballStemmer (More advanced, supports multiple languages)\n",
    "- An improved version of PorterStemmer with support for multiple languages and more consistent stemming rules."
   ]
  },
  {
   "cell_type": "code",
   "execution_count": 6,
   "id": "8b33a712-7864-4b45-b8dc-019531405df2",
   "metadata": {},
   "outputs": [
    {
     "name": "stdout",
     "output_type": "stream",
     "text": [
      "['run', 'ran', 'run', 'easili', 'fair', 'programm', 'program', 'histori', 'histor']\n"
     ]
    }
   ],
   "source": [
    "from nltk.stem import SnowballStemmer\n",
    "\n",
    "stemmer = SnowballStemmer(\"english\")\n",
    "stems = [stemmer.stem(word) for word in words]\n",
    "print(stems)"
   ]
  }
 ],
 "metadata": {
  "kernelspec": {
   "display_name": "mytryout_venv",
   "language": "python",
   "name": "mytryout_venv"
  },
  "language_info": {
   "codemirror_mode": {
    "name": "ipython",
    "version": 3
   },
   "file_extension": ".py",
   "mimetype": "text/x-python",
   "name": "python",
   "nbconvert_exporter": "python",
   "pygments_lexer": "ipython3",
   "version": "3.10.12"
  }
 },
 "nbformat": 4,
 "nbformat_minor": 5
}
