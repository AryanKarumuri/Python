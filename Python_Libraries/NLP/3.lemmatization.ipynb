{
 "cells": [
  {
   "cell_type": "markdown",
   "id": "c9d5f543-364d-4c82-8b84-1b78118d1a01",
   "metadata": {},
   "source": [
    "# Lemmatization in NLP\n",
    "\n",
    "## What is Lemmatization?\n",
    "\n",
    "**Lemmatization** is the process of reducing a word to its **base or dictionary form** (called a **lemma**) using **vocabulary and morphological analysis**.\n",
    "\n",
    "- Unlike stemming, lemmatization returns real words.\n",
    "- Example:  \n",
    "  - \"running\" → \"run\"  \n",
    "  - \"better\" → \"good\"  \n",
    "  - \"was\" → \"be\"\n",
    "\n",
    "## Why Use Lemmatization?\n",
    "\n",
    "- More accurate than stemming.\n",
    "- Preserves the **meaning** of words.\n",
    "- Essential for tasks like **text classification**, **question answering**, and **semantic analysis**."
   ]
  },
  {
   "cell_type": "markdown",
   "id": "15d8683f-4e53-4b09-8f67-4ccef05487eb",
   "metadata": {},
   "source": [
    "# Difference Between Stemming and Lemmatization\n",
    "\n",
    "| Feature            | **Stemming**                           | **Lemmatization**                           |\n",
    "|--------------------|----------------------------------------|--------------------------------------------|\n",
    "| **Definition**      | Reduces words to their root form, often a non-word. | Reduces words to their dictionary form (real word). |\n",
    "| **Accuracy**        | Less accurate, as it follows heuristic rules. | More accurate, uses vocabulary and context. |\n",
    "| **Speed**           | Faster, since it only applies simple rules. | Slower, as it involves dictionary lookups and context analysis. |\n",
    "| **Use Case**        | Useful for quick, simple tasks where precision is not critical. | Essential for tasks requiring high precision and linguistic meaning (e.g., text classification, sentiment analysis). |\n",
    "| **Example**         | \"better\" → \"bett\" | \"better\" → \"good\" |\n",
    "| **Complexity**      | Simpler to implement (uses rule-based algorithms). | More complex, uses lexical databases like WordNet. |\n",
    "\n"
   ]
  },
  {
   "cell_type": "markdown",
   "id": "f2a25327-1df2-451a-8cc8-c3748cc0b800",
   "metadata": {},
   "source": [
    "### Bonus Tip:\n",
    "✅ Use Lemmatization when precision and correctness are important.\n",
    "\n",
    "✅ Prefer it over stemming for linguistic tasks and text understanding."
   ]
  },
  {
   "cell_type": "code",
   "execution_count": 1,
   "id": "5bd84b88-988a-4dc4-af93-bf88f87656cb",
   "metadata": {},
   "outputs": [],
   "source": [
    "from nltk.stem import WordNetLemmatizer\n",
    "\n",
    "lemmatizer=WordNetLemmatizer()"
   ]
  },
  {
   "cell_type": "code",
   "execution_count": 6,
   "id": "a0c14c7b-5bf7-4776-aaab-53cea64458f8",
   "metadata": {},
   "outputs": [
    {
     "name": "stderr",
     "output_type": "stream",
     "text": [
      "[nltk_data] Downloading package wordnet to\n",
      "[nltk_data]     /home/u5c2dbc0bf2849dd5288e3311262c709/nltk_data...\n",
      "[nltk_data]   Package wordnet is already up-to-date!\n",
      "[nltk_data] Downloading package omw-1.4 to\n",
      "[nltk_data]     /home/u5c2dbc0bf2849dd5288e3311262c709/nltk_data...\n",
      "[nltk_data]   Package omw-1.4 is already up-to-date!\n"
     ]
    },
    {
     "data": {
      "text/plain": [
       "True"
      ]
     },
     "execution_count": 6,
     "metadata": {},
     "output_type": "execute_result"
    }
   ],
   "source": [
    "# Make sure to download these\n",
    "import nltk\n",
    "nltk.download('wordnet') # Downloads the WordNet corpus, a lexical database for the English language, used for tasks like lemmatization.\n",
    "nltk.download('omw-1.4') # Downloads the Open Multilingual WordNet, providing multilingual support for WordNet, enabling cross-lingual NLP tasks."
   ]
  },
  {
   "cell_type": "markdown",
   "id": "6c6d0819-8e96-44d4-b665-5f477c3561ef",
   "metadata": {},
   "source": [
    "#### You must specify the part of speech (pos) for best results (e.g., 'n' for noun, 'v' for verb, 'a' for adjective, 'r' for adverb)."
   ]
  },
  {
   "cell_type": "code",
   "execution_count": 9,
   "id": "22577c18-4617-483a-a541-3f64aec69065",
   "metadata": {},
   "outputs": [
    {
     "name": "stdout",
     "output_type": "stream",
     "text": [
      "run\n",
      "good\n",
      "be\n",
      "fairly\n"
     ]
    }
   ],
   "source": [
    "print(lemmatizer.lemmatize(\"running\", pos=\"v\"))  \n",
    "print(lemmatizer.lemmatize(\"better\", pos=\"a\"))   \n",
    "print(lemmatizer.lemmatize(\"was\", pos=\"v\"))  \n",
    "print(lemmatizer.lemmatize(\"fairly\", pos='r'))"
   ]
  }
 ],
 "metadata": {
  "kernelspec": {
   "display_name": "mytryout_venv",
   "language": "python",
   "name": "mytryout_venv"
  },
  "language_info": {
   "codemirror_mode": {
    "name": "ipython",
    "version": 3
   },
   "file_extension": ".py",
   "mimetype": "text/x-python",
   "name": "python",
   "nbconvert_exporter": "python",
   "pygments_lexer": "ipython3",
   "version": "3.10.12"
  }
 },
 "nbformat": 4,
 "nbformat_minor": 5
}
