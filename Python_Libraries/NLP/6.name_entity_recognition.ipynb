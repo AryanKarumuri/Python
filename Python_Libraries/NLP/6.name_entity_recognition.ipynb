{
 "cells": [
  {
   "cell_type": "markdown",
   "id": "b6920f0a-771d-42de-958f-2c261d49f17e",
   "metadata": {},
   "source": [
    "# Named Entity Recognition (NER) with NLTK\n",
    "\n",
    "## What is Named Entity Recognition (NER)?\n",
    "\n",
    "**Named Entity Recognition (NER)** is a subtask of **information extraction** that identifies and classifies **named entities** in text into predefined categories. These categories typically include:\n",
    "\n",
    "- **Person**: Names of people (e.g., \"Barack Obama\")\n",
    "- **Organization**: Names of companies or institutions (e.g., \"Google\")\n",
    "- **Location**: Names of geographic locations (e.g., \"Paris\", \"Hawaii\")\n",
    "- **Date**, **Time**, **Money**, **Percent**, etc.\n",
    "\n",
    "NER helps in understanding the context and extracting important information from unstructured text.\n",
    "\n",
    "## NER with NLTK\n",
    "\n",
    "NLTK provides a built-in **Named Entity Chunker** using a trained model to identify named entities. The function `nltk.ne_chunk()` is used for NER in NLTK.\n",
    "\n",
    "## When to Use NER:\n",
    "- **Information Retrieval**: To improve search results by identifying and prioritizing entities.\n",
    "- **Question Answering**: For answering questions about specific people, places, or organizations.\n",
    "- **Content Extraction**: To pull out relevant data like dates, locations, or people for automated analysis."
   ]
  },
  {
   "cell_type": "code",
   "execution_count": 5,
   "id": "be50d3df-a350-47bb-abaf-a7d539ae2ecf",
   "metadata": {},
   "outputs": [
    {
     "name": "stderr",
     "output_type": "stream",
     "text": [
      "[nltk_data] Downloading package punkt to\n",
      "[nltk_data]     /home/u5c2dbc0bf2849dd5288e3311262c709/nltk_data...\n",
      "[nltk_data]   Package punkt is already up-to-date!\n",
      "[nltk_data] Downloading package averaged_perceptron_tagger to\n",
      "[nltk_data]     /home/u5c2dbc0bf2849dd5288e3311262c709/nltk_data...\n",
      "[nltk_data]   Package averaged_perceptron_tagger is already up-to-\n",
      "[nltk_data]       date!\n",
      "[nltk_data] Downloading package maxent_ne_chunker to\n",
      "[nltk_data]     /home/u5c2dbc0bf2849dd5288e3311262c709/nltk_data...\n",
      "[nltk_data]   Package maxent_ne_chunker is already up-to-date!\n",
      "[nltk_data] Downloading package maxent_ne_chunker_tab to\n",
      "[nltk_data]     /home/u5c2dbc0bf2849dd5288e3311262c709/nltk_data...\n",
      "[nltk_data]   Unzipping chunkers/maxent_ne_chunker_tab.zip.\n",
      "[nltk_data] Downloading package words to\n",
      "[nltk_data]     /home/u5c2dbc0bf2849dd5288e3311262c709/nltk_data...\n",
      "[nltk_data]   Package words is already up-to-date!\n"
     ]
    },
    {
     "data": {
      "text/plain": [
       "True"
      ]
     },
     "execution_count": 5,
     "metadata": {},
     "output_type": "execute_result"
    }
   ],
   "source": [
    "import nltk\n",
    "nltk.download('punkt')  # Downloads the tokenizer models for breaking text into sentences and words\n",
    "nltk.download('averaged_perceptron_tagger')  # Downloads the POS tagger model used for part-of-speech tagging\n",
    "nltk.download('maxent_ne_chunker')  # Downloads the named entity chunker model for NER tasks\n",
    "nltk.download('maxent_ne_chunker_tab')  # NER chunker tab files (needed for parsing)\n",
    "nltk.download('words')  # Downloads a list of English words used by the NER and chunker"
   ]
  },
  {
   "cell_type": "code",
   "execution_count": 6,
   "id": "7537a230-1ca7-4926-874a-e92c67603663",
   "metadata": {},
   "outputs": [
    {
     "name": "stdout",
     "output_type": "stream",
     "text": [
      "(S (GPE Aryan/NNP) is/VBZ an/DT ambivert/JJ boy/NN !/.)\n",
      "(S !/.)\n"
     ]
    }
   ],
   "source": [
    "sample_text = \"Aryan is an ambivert boy!!\"\n",
    "\n",
    "sentences = nltk.sent_tokenize(sample_text)\n",
    "for sentence in sentences:\n",
    "    words = nltk.word_tokenize(sentence)\n",
    "    pos_tags = nltk.pos_tag(words)\n",
    "    named_entities = nltk.ne_chunk(pos_tags)\n",
    "    print(named_entities)\n",
    "    "
   ]
  }
 ],
 "metadata": {
  "kernelspec": {
   "display_name": "mytryout_venv",
   "language": "python",
   "name": "mytryout_venv"
  },
  "language_info": {
   "codemirror_mode": {
    "name": "ipython",
    "version": 3
   },
   "file_extension": ".py",
   "mimetype": "text/x-python",
   "name": "python",
   "nbconvert_exporter": "python",
   "pygments_lexer": "ipython3",
   "version": "3.10.12"
  }
 },
 "nbformat": 4,
 "nbformat_minor": 5
}
