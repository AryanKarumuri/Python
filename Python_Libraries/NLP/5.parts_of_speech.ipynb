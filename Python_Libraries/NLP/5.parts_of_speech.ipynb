{
 "cells": [
  {
   "cell_type": "markdown",
   "id": "d1034763-783d-453f-8bea-e5f5f58a1cb3",
   "metadata": {},
   "source": [
    "# `nltk.pos_tag` in NLTK\n",
    "\n",
    "## What is `pos_tag`?\n",
    "\n",
    "`nltk.pos_tag()` is a function in NLTK that performs **Part-of-Speech (POS) tagging**, assigning a **grammatical category** (like noun, verb, adjective) to each word in a sentence.\n",
    "\n",
    "## How It Works:\n",
    "\n",
    "- It takes a **list of word tokens** and returns a list of tuples: `(word, POS_tag)`.\n",
    "- Uses the **Penn Treebank tagset** by default (e.g., `NN` = noun, `VB` = verb, `JJ` = adjective).\n",
    "\n",
    "## Why POS Tagging Matters:\n",
    "- Helps in understanding grammar and syntax.\n",
    "- Useful for lemmatization, named entity recognition, and information extraction.\n",
    "- Can improve accuracy in text classification and semantic analysis."
   ]
  },
  {
   "cell_type": "raw",
   "id": "d69a89d0-0d83-4c81-9bc0-76865438ab88",
   "metadata": {},
   "source": [
    "## Common POS Tags (Penn Treebank)\n",
    "\n",
    "| Tag  | Part of Speech             | Description                             | Example       |\n",
    "|------|----------------------------|-----------------------------------------|---------------|\n",
    "| CC   | Coordinating conjunction   | Connects words/phrases/clauses          | and, but, or  |\n",
    "| CD   | Cardinal number            | Numbers                                  | one, two, 100 |\n",
    "| DT   | Determiner                 | Introduces nouns                         | the, a, an    |\n",
    "| EX   | Existential there          | Represents existence                     | there (is)    |\n",
    "| IN   | Preposition/Subordinating conjunction | Shows relation or subordination     | in, on, because |\n",
    "| JJ   | Adjective                  | Describes a noun                         | big, blue     |\n",
    "| JJR  | Adjective, comparative     | Comparison adjective                     | bigger        |\n",
    "| JJS  | Adjective, superlative     | Highest degree adjective                 | biggest       |\n",
    "| MD   | Modal                      | Expresses possibility or necessity       | can, should   |\n",
    "| NN   | Noun, singular             | Common noun                              | dog, car      |\n",
    "| NNS  | Noun, plural               | Plural form of noun                      | dogs, cars    |\n",
    "| NNP  | Proper noun, singular      | Specific name                            | John, London  |\n",
    "| NNPS | Proper noun, plural        | Plural proper noun                       | Americans     |\n",
    "| PRP  | Personal pronoun           | Replaces noun                            | he, she, they |\n",
    "| PRP$ | Possessive pronoun         | Shows ownership                          | his, her      |\n",
    "| RB   | Adverb                     | Modifies verbs, adjectives, or adverbs   | quickly, very |\n",
    "| RBR  | Adverb, comparative        | Comparative adverb                       | faster        |\n",
    "| RBS  | Adverb, superlative        | Superlative adverb                       | fastest       |\n",
    "| TO   | \"to\"                       | Infinitive marker                        | to go         |\n",
    "| VB   | Verb, base form            | Base verb                                | run           |\n",
    "| VBD  | Verb, past tense           | Past tense verb                          | ran           |\n",
    "| VBG  | Verb, gerund/present participle | Ongoing action                   | running       |\n",
    "| VBN  | Verb, past participle      | Past participle                          | eaten, gone   |\n",
    "| VBP  | Verb, non-3rd person present | Present tense for non-3rd person      | run           |\n",
    "| VBZ  | Verb, 3rd person present   | Present tense for 3rd person             | runs          |\n",
    "| WDT  | Wh-determiner              | Question word that determines noun       | which         |\n",
    "| WP   | Wh-pronoun                 | Question pronoun                         | who, what     |\n",
    "| WP$  | Possessive wh-pronoun      | Possessive form of wh-pronoun            | whose         |\n",
    "| WRB  | Wh-adverb                  | Question adverb                          | where, when   |\n",
    "| .    | Punctuation                | Marks end of sentence                    | . ? !         |\n"
   ]
  },
  {
   "cell_type": "code",
   "execution_count": 1,
   "id": "19f16f44-2b53-4d5f-b130-ca68f4e29194",
   "metadata": {},
   "outputs": [],
   "source": [
    "paragraph = \"\"\"Natural Language Processing is a fascinating field of artificial intelligence. \n",
    "It allows computers to understand, interpret, and generate human language. \n",
    "Many applications like chatbots, language translation, and sentiment analysis rely heavily on NLP techniques. \n",
    "With the growth of digital content, the ability to analyze large volumes of text has become essential. \n",
    "NLP helps in extracting useful information, automating tasks, and enhancing user experiences across different domains.\"\"\""
   ]
  },
  {
   "cell_type": "code",
   "execution_count": 2,
   "id": "fa3d16a8-b9b1-442e-b77c-457b48fabcf5",
   "metadata": {},
   "outputs": [
    {
     "name": "stderr",
     "output_type": "stream",
     "text": [
      "[nltk_data] Downloading package punkt to\n",
      "[nltk_data]     /home/u5c2dbc0bf2849dd5288e3311262c709/nltk_data...\n",
      "[nltk_data]   Package punkt is already up-to-date!\n",
      "[nltk_data] Downloading package averaged_perceptron_tagger to\n",
      "[nltk_data]     /home/u5c2dbc0bf2849dd5288e3311262c709/nltk_data...\n",
      "[nltk_data]   Unzipping taggers/averaged_perceptron_tagger.zip.\n"
     ]
    },
    {
     "data": {
      "text/plain": [
       "True"
      ]
     },
     "execution_count": 2,
     "metadata": {},
     "output_type": "execute_result"
    }
   ],
   "source": [
    "import nltk\n",
    "nltk.download('punkt')\n",
    "nltk.download('averaged_perceptron_tagger')"
   ]
  },
  {
   "cell_type": "code",
   "execution_count": 9,
   "id": "3e878aec-2221-44ac-aa99-edba15617173",
   "metadata": {},
   "outputs": [
    {
     "name": "stdout",
     "output_type": "stream",
     "text": [
      "[[('Hey', 'NNP'), ('Spidey!', 'NNP'), ('You', 'PRP'), ('look', 'VBP'), ('amazing', 'VBG'), ('in', 'IN'), ('the', 'DT'), ('black', 'JJ'), ('suit:)', 'NN')]]\n"
     ]
    }
   ],
   "source": [
    "# Example-1\n",
    "\n",
    "sample = \"Hey Spidey! You look amazing in the black suit:)\"\n",
    "words = [nltk.pos_tag(sample.split())]\n",
    "print(words)"
   ]
  },
  {
   "cell_type": "code",
   "execution_count": 13,
   "id": "05d870b0-2565-4df1-9332-832874700ff4",
   "metadata": {},
   "outputs": [
    {
     "name": "stdout",
     "output_type": "stream",
     "text": [
      "[('Natural', 'JJ'), ('Language', 'NNP'), ('Processing', 'NNP'), ('fascinating', 'JJ'), ('field', 'NN'), ('artificial', 'JJ'), ('intelligence', 'NN'), ('.', '.')]\n",
      "[('It', 'PRP'), ('allows', 'VBZ'), ('computers', 'NNS'), ('understand', 'VBP'), (',', ','), ('interpret', 'JJ'), (',', ','), ('generate', 'JJ'), ('human', 'JJ'), ('language', 'NN'), ('.', '.')]\n",
      "[('Many', 'JJ'), ('applications', 'NNS'), ('like', 'IN'), ('chatbots', 'NNS'), (',', ','), ('language', 'NN'), ('translation', 'NN'), (',', ','), ('sentiment', 'NN'), ('analysis', 'NN'), ('rely', 'RB'), ('heavily', 'RB'), ('NLP', 'NNP'), ('techniques', 'NNS'), ('.', '.')]\n",
      "[('With', 'IN'), ('growth', 'NN'), ('digital', 'JJ'), ('content', 'NN'), (',', ','), ('ability', 'NN'), ('analyze', 'RB'), ('large', 'JJ'), ('volumes', 'NNS'), ('text', 'JJ'), ('become', 'JJ'), ('essential', 'JJ'), ('.', '.')]\n",
      "[('NLP', 'NNP'), ('helps', 'VBZ'), ('extracting', 'VBG'), ('useful', 'JJ'), ('information', 'NN'), (',', ','), ('automating', 'VBG'), ('tasks', 'NNS'), (',', ','), ('enhancing', 'VBG'), ('user', 'JJ'), ('experiences', 'NNS'), ('across', 'IN'), ('different', 'JJ'), ('domains', 'NNS'), ('.', '.')]\n"
     ]
    },
    {
     "name": "stderr",
     "output_type": "stream",
     "text": [
      "[nltk_data] Downloading package stopwords to\n",
      "[nltk_data]     /home/u5c2dbc0bf2849dd5288e3311262c709/nltk_data...\n",
      "[nltk_data]   Package stopwords is already up-to-date!\n",
      "[nltk_data] Downloading package punkt to\n",
      "[nltk_data]     /home/u5c2dbc0bf2849dd5288e3311262c709/nltk_data...\n",
      "[nltk_data]   Package punkt is already up-to-date!\n",
      "[nltk_data] Downloading package averaged_perceptron_tagger to\n",
      "[nltk_data]     /home/u5c2dbc0bf2849dd5288e3311262c709/nltk_data...\n",
      "[nltk_data]   Package averaged_perceptron_tagger is already up-to-\n",
      "[nltk_data]       date!\n"
     ]
    }
   ],
   "source": [
    "# Example-2\n",
    "import nltk\n",
    "nltk.download('stopwords') # Download the list of common stopwords in various languages\n",
    "nltk.download('punkt') # Download the tokenizer models for sentence and word tokenization\n",
    "nltk.download('averaged_perceptron_tagger') # Download the POS tagger model for part-of-speech tagging\n",
    "\n",
    "from nltk.corpus import stopwords\n",
    "stopwords.words('english') # Access the list of English stopwords\n",
    "\n",
    "sentences = nltk.sent_tokenize(paragraph)\n",
    "for sentence in sentences:\n",
    "    words = nltk.word_tokenize(sentence)\n",
    "    words = [word for word in words if word not in set(stopwords.words('english'))]\n",
    "    pos_tag = nltk.pos_tag(words)\n",
    "    print(pos_tag)"
   ]
  }
 ],
 "metadata": {
  "kernelspec": {
   "display_name": "mytryout_venv",
   "language": "python",
   "name": "mytryout_venv"
  },
  "language_info": {
   "codemirror_mode": {
    "name": "ipython",
    "version": 3
   },
   "file_extension": ".py",
   "mimetype": "text/x-python",
   "name": "python",
   "nbconvert_exporter": "python",
   "pygments_lexer": "ipython3",
   "version": "3.10.12"
  }
 },
 "nbformat": 4,
 "nbformat_minor": 5
}
